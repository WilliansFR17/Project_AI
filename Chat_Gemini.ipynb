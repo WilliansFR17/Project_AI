{
  "nbformat": 4,
  "nbformat_minor": 0,
  "metadata": {
    "colab": {
      "provenance": [],
      "authorship_tag": "ABX9TyO1V0tnuBwmT7+VQ5nCaXqZ",
      "include_colab_link": true
    },
    "kernelspec": {
      "name": "python3",
      "display_name": "Python 3"
    },
    "language_info": {
      "name": "python"
    }
  },
  "cells": [
    {
      "cell_type": "markdown",
      "metadata": {
        "id": "view-in-github",
        "colab_type": "text"
      },
      "source": [
        "<a href=\"https://colab.research.google.com/github/WilliansFR17/Project_AI/blob/main/Chat_Gemini.ipynb\" target=\"_parent\"><img src=\"https://colab.research.google.com/assets/colab-badge.svg\" alt=\"Open In Colab\"/></a>"
      ]
    },
    {
      "cell_type": "markdown",
      "source": [
        "Instalando SDK do Google"
      ],
      "metadata": {
        "id": "Zn2jl-NhoG6m"
      }
    },
    {
      "cell_type": "code",
      "execution_count": 1,
      "metadata": {
        "id": "J6Pd9SFJ1yVi"
      },
      "outputs": [],
      "source": [
        "!pip install -q -U google-generativeai"
      ]
    },
    {
      "cell_type": "code",
      "source": [
        "# Import the Python SDK\n",
        "import google.generativeai as genai\n",
        "from google.colab import userdata\n",
        "GOOGLE_API_KEY= userdata.get(\"chave_secreta\")\n",
        "genai.configure(api_key=GOOGLE_API_KEY)"
      ],
      "metadata": {
        "id": "mxpKmpSPocAX"
      },
      "execution_count": 32,
      "outputs": []
    },
    {
      "cell_type": "markdown",
      "source": [
        "Listar os modelos disponiveis"
      ],
      "metadata": {
        "id": "R6fHDq5ioo4b"
      }
    },
    {
      "cell_type": "code",
      "source": [
        "for m in genai.list_models():\n",
        "  if 'generateContent' in m.supported_generation_methods:\n",
        "    print(m.name)"
      ],
      "metadata": {
        "colab": {
          "base_uri": "https://localhost:8080/",
          "height": 139
        },
        "id": "AeT7HLNeolJ2",
        "outputId": "076caf35-0c9c-4ad4-a82e-9091a6fd90f1"
      },
      "execution_count": 33,
      "outputs": [
        {
          "output_type": "stream",
          "name": "stdout",
          "text": [
            "models/gemini-1.0-pro\n",
            "models/gemini-1.0-pro-001\n",
            "models/gemini-1.0-pro-latest\n",
            "models/gemini-1.0-pro-vision-latest\n",
            "models/gemini-1.5-pro-latest\n",
            "models/gemini-pro\n",
            "models/gemini-pro-vision\n"
          ]
        }
      ]
    },
    {
      "cell_type": "code",
      "source": [
        "generation_config = {\n",
        "    'candidate_count': 1,\n",
        "    \"temperature\" : 0.5,\n",
        "\n",
        "}"
      ],
      "metadata": {
        "id": "IC7xf_qVrcuu"
      },
      "execution_count": 34,
      "outputs": []
    },
    {
      "cell_type": "code",
      "source": [
        "safety_settings = {\n",
        "    \"HARASSMENT\" : \"BLOCK_NONE\",\n",
        "    \"HATE\" : \"BLOCK_NONE\",\n",
        "    \"SEXUAL\" : \"BLOCK_NONE\",\n",
        "    \"DANGEROUS\" : \"BLOCK_NONE\",\n",
        " }"
      ],
      "metadata": {
        "id": "U4IphQ_EsQou"
      },
      "execution_count": 36,
      "outputs": []
    },
    {
      "cell_type": "markdown",
      "source": [
        "Inicializando o modelo"
      ],
      "metadata": {
        "id": "sKXNXvYHtju-"
      }
    },
    {
      "cell_type": "code",
      "source": [
        "model = genai.GenerativeModel(model_name= \"gemini-1.0-pro\",\n",
        "                              generation_config=generation_config,\n",
        "                              safety_settings=safety_settings)"
      ],
      "metadata": {
        "id": "Cdso4Uxutmfb"
      },
      "execution_count": 37,
      "outputs": []
    },
    {
      "cell_type": "code",
      "source": [
        "response = model.generate_content(\"Vamos aprender muito conteudo sobre IA. Me dê sugestões\")\n",
        "print(response.text)"
      ],
      "metadata": {
        "colab": {
          "base_uri": "https://localhost:8080/",
          "height": 816
        },
        "id": "xY-6xFfO0VzC",
        "outputId": "ff0ba645-5ca1-4992-c345-0a6a99078721"
      },
      "execution_count": 38,
      "outputs": [
        {
          "output_type": "stream",
          "name": "stdout",
          "text": [
            "**Livros:**\n",
            "\n",
            "* \"Inteligência Artificial: Uma Abordagem Moderna\" por Stuart Russell e Peter Norvig\n",
            "* \"Aprendizado de Máquina\" por Tom Mitchell\n",
            "* \"Aprendizado Profundo\" por Ian Goodfellow, Yoshua Bengio e Aaron Courville\n",
            "* \"Inteligência Artificial: Uma Perspectiva Prática\" por Peter Norvig\n",
            "* \"Inteligência Artificial para Executivos\" por Thomas H. Davenport e Rajeev Ronanki\n",
            "\n",
            "**Cursos Online:**\n",
            "\n",
            "* **Coursera:**\n",
            "    * Aprendizado de Máquina da Universidade de Stanford\n",
            "    * Inteligência Artificial da Universidade de Alberta\n",
            "    * Processamento de Linguagem Natural da Universidade Johns Hopkins\n",
            "* **edX:**\n",
            "    * Ciência de Dados e Aprendizado de Máquina do MIT\n",
            "    * Inteligência Artificial da Microsoft\n",
            "    * Aprendizado Profundo da NVIDIA\n",
            "* **Udemy:**\n",
            "    * Curso Completo de Inteligência Artificial\n",
            "    * Aprendizado de Máquina para Iniciantes\n",
            "    * Aprenda Aprendizado Profundo com TensorFlow\n",
            "\n",
            "**Conferências e Eventos:**\n",
            "\n",
            "* Conferência Internacional Conjunta sobre Inteligência Artificial (IJCAI)\n",
            "* Conferência sobre Sistemas de Processamento de Informação Neural (NeurIPS)\n",
            "* Conferência Internacional sobre Aprendizado de Máquina (ICML)\n",
            "* Conferência Internacional sobre Visão Computacional (ICCV)\n",
            "* Conferência Internacional sobre Robótica e Automação (ICRA)\n",
            "\n",
            "**Revistas e Publicações:**\n",
            "\n",
            "* Journal of Artificial Intelligence Research (JAIR)\n",
            "* Transactions on Artificial Intelligence (TAI)\n",
            "* Artificial Intelligence Journal (AIJ)\n",
            "* Machine Learning Journal (MLJ)\n",
            "* IEEE Transactions on Neural Networks and Learning Systems (TNNLS)\n",
            "\n",
            "**Blogs e Websites:**\n",
            "\n",
            "* MIT Technology Review\n",
            "* Wired\n",
            "* Towards Data Science\n",
            "* Analytics Vidhya\n",
            "* KDnuggets\n"
          ]
        }
      ]
    },
    {
      "cell_type": "code",
      "source": [
        "chat = model.start_chat(history=[])"
      ],
      "metadata": {
        "id": "89fgYCtk0xqj"
      },
      "execution_count": 39,
      "outputs": []
    },
    {
      "cell_type": "code",
      "source": [
        "prompt = input(\"Esperando prompt: \")\n",
        "while prompt != \"fim\" :\n",
        "  response = chat.send_message(prompt)\n",
        "  print(\"Resposta: \",response.text,\"\\n\")\n",
        "  prompt = input(\"Esperando prompt: \")"
      ],
      "metadata": {
        "colab": {
          "base_uri": "https://localhost:8080/",
          "height": 86
        },
        "id": "Dpioe9gL1PYf",
        "outputId": "ee85896c-1770-455a-ea02-1eebef2a0df1"
      },
      "execution_count": 40,
      "outputs": [
        {
          "name": "stdout",
          "output_type": "stream",
          "text": [
            "Esperando prompt: quem é você ?\n",
            "Resposta:  Sou Gemini, um modelo de linguagem de IA multimodal desenvolvido pelo Google. \n",
            "\n",
            "Esperando prompt: fim\n"
          ]
        }
      ]
    }
  ]
}